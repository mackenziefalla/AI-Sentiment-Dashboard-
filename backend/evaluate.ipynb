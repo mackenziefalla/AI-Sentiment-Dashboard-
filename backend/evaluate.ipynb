{
 "cells": [
  {
   "cell_type": "markdown",
   "id": "0e0be842",
   "metadata": {},
   "source": [
    "# Sentiment Model"
   ]
  },
  {
   "cell_type": "markdown",
   "id": "0abe0c4f",
   "metadata": {},
   "source": [
    "## Imports"
   ]
  },
  {
   "cell_type": "code",
   "execution_count": 1,
   "id": "ad9a260a",
   "metadata": {},
   "outputs": [],
   "source": [
    "from transformers import pipeline\n",
    "from sklearn.metrics import accuracy_score, precision_score, recall_score, f1_score, confusion_matrix, ConfusionMatrixDisplay\n",
    "import matplotlib.pyplot as plt"
   ]
  },
  {
   "cell_type": "markdown",
   "id": "d24a0ed2",
   "metadata": {},
   "source": [
    "## Implementation"
   ]
  },
  {
   "cell_type": "code",
   "execution_count": 2,
   "id": "82babb8c",
   "metadata": {},
   "outputs": [
    {
     "name": "stderr",
     "output_type": "stream",
     "text": [
      "Device set to use mps:0\n"
     ]
    },
    {
     "data": {
      "text/plain": [
       "[{'label': 'LABEL_2', 'score': 0.9876981377601624}]"
      ]
     },
     "execution_count": 2,
     "metadata": {},
     "output_type": "execute_result"
    }
   ],
   "source": [
    "# Load sentiment analysis pipeline (RoBERTa, 3 classes: negative/neutral/positive)\n",
    "sentiment_analyzer = pipeline(\n",
    "    task=\"sentiment-analysis\",\n",
    "    model=\"cardiffnlp/twitter-roberta-base-sentiment\"\n",
    ")\n",
    "\n",
    "# Sanity check\n",
    "sentiment_analyzer(\"This demo is working great!\")"
   ]
  },
  {
   "cell_type": "code",
   "execution_count": 3,
   "id": "9ba272ba",
   "metadata": {},
   "outputs": [],
   "source": [
    "# Eval dataset to test RoBERTa and compute metrics.\n",
    "# Labels: LABEL_0=Negative, LABEL_1=Neutral, LABEL_2=Positive.\n",
    "texts = [\n",
    "    \"I love this product!\", \"This is the worst experience.\", \"It was okay, nothing special.\",\n",
    "    \"Absolutely fantastic service.\", \"I really dislike the taste.\", \"Not bad, could be better.\",\n",
    "    \"Best day ever!\", \"This ruined my evening.\", \"It’s fine, nothing remarkable.\",\n",
    "    \"Super happy with the results!\", \"Awful design and poor quality.\", \"Average experience overall.\",\n",
    "    \"I’m thrilled with this choice.\", \"Totally disappointed.\", \"It met my expectations.\",\n",
    "    \"Exceeded what I hoped for!\", \"Would not recommend at all.\", \"It’s decent, not the best.\",\n",
    "    \"Perfect in every way!\", \"Completely useless.\", \"Works as intended.\",\n",
    "    \"Highly recommended!\", \"I regret buying this.\", \"Neutral about this one.\",\n",
    "    \"This made my day!\", \"Waste of money.\", \"It’s acceptable.\",\n",
    "    \"I couldn’t be happier.\", \"Extremely frustrating.\", \"Just okay.\",\n",
    "    \"This is amazing!\", \"Terrible outcome.\", \"Nothing to complain about.\",\n",
    "    \"So much fun to use.\", \"It broke right away.\", \"It does the job.\",\n",
    "    \"Outstanding effort!\", \"Not worth the price.\", \"Neither good nor bad.\",\n",
    "    \"Incredible quality!\", \"Worst purchase ever.\", \"I feel indifferent.\",\n",
    "    \"This app is brilliant!\", \"Completely dissatisfied.\", \"It’s manageable.\",\n",
    "    \"Delighted with this item.\", \"I hate it.\", \"It’s average.\",\n",
    "    \"I’m so impressed.\", \"Awful decision.\", \"Not terrible, not great.\",\n",
    "    \"It made me smile.\", \"Horrible packaging.\", \"It’s satisfactory.\",\n",
    "    \"Wonderful upgrade!\", \"Bad experience overall.\", \"It’s okay.\",\n",
    "    \"Couldn’t ask for more.\", \"Very disappointing.\", \"Neither here nor there.\",\n",
    "    \"Truly excellent.\", \"Pathetic quality.\", \"Nothing extraordinary.\",\n",
    "    \"I enjoyed every moment.\", \"Worst thing so far.\", \"It’s passable.\",\n",
    "    \"Superb product.\", \"I don’t like this.\", \"It’s fine.\",\n",
    "    \"Top-notch experience!\", \"Horrible mistake.\", \"Mediocre outcome.\",\n",
    "    \"Simply perfect.\", \"Disgusting taste.\", \"So-so service.\",\n",
    "    \"Very satisfied.\", \"Completely failed me.\", \"It’s alright.\",\n",
    "    \"Impressive results.\", \"Not acceptable.\", \"Plain and ordinary.\",\n",
    "    \"Really great quality.\", \"I wish I hadn’t bought this.\", \"It’s tolerable.\",\n",
    "    \"Best choice ever.\", \"I’m angry with this.\", \"It’s normal.\",\n",
    "    \"Couldn’t be better.\", \"Biggest regret.\", \"I’m neutral.\",\n",
    "    \"I feel great about this.\", \"Worst ever.\", \"This is typical.\",\n",
    "    \"Outstanding job!\", \"Pathetic results.\", \"Average at best.\"\n",
    "]\n",
    "\n",
    "true_labels = [\n",
    "    \"LABEL_2\",\"LABEL_0\",\"LABEL_1\",\n",
    "    \"LABEL_2\",\"LABEL_0\",\"LABEL_1\",\n",
    "    \"LABEL_2\",\"LABEL_0\",\"LABEL_1\",\n",
    "    \"LABEL_2\",\"LABEL_0\",\"LABEL_1\",\n",
    "    \"LABEL_2\",\"LABEL_0\",\"LABEL_1\",\n",
    "    \"LABEL_2\",\"LABEL_0\",\"LABEL_1\",\n",
    "    \"LABEL_2\",\"LABEL_0\",\"LABEL_1\",\n",
    "    \"LABEL_2\",\"LABEL_0\",\"LABEL_1\",\n",
    "    \"LABEL_2\",\"LABEL_0\",\"LABEL_1\",\n",
    "    \"LABEL_2\",\"LABEL_0\",\"LABEL_1\",\n",
    "    \"LABEL_2\",\"LABEL_0\",\"LABEL_1\",\n",
    "    \"LABEL_2\",\"LABEL_0\",\"LABEL_1\",\n",
    "    \"LABEL_2\",\"LABEL_0\",\"LABEL_1\",\n",
    "    \"LABEL_2\",\"LABEL_0\",\"LABEL_1\",\n",
    "    \"LABEL_2\",\"LABEL_0\",\"LABEL_1\",\n",
    "    \"LABEL_2\",\"LABEL_0\",\"LABEL_1\",\n",
    "    \"LABEL_2\",\"LABEL_0\",\"LABEL_1\",\n",
    "    \"LABEL_2\",\"LABEL_0\",\"LABEL_1\",\n",
    "    \"LABEL_2\",\"LABEL_0\",\"LABEL_1\",\n",
    "    \"LABEL_2\",\"LABEL_0\",\"LABEL_1\",\n",
    "    \"LABEL_2\",\"LABEL_0\",\"LABEL_1\",\n",
    "    \"LABEL_2\",\"LABEL_0\",\"LABEL_1\",\n",
    "    \"LABEL_2\",\"LABEL_0\",\"LABEL_1\",\n",
    "    \"LABEL_2\",\"LABEL_0\",\"LABEL_1\",\n",
    "    \"LABEL_2\",\"LABEL_0\",\"LABEL_1\",\n",
    "    \"LABEL_2\",\"LABEL_0\",\"LABEL_1\",\n",
    "    \"LABEL_2\",\"LABEL_0\",\"LABEL_1\",\n",
    "    \"LABEL_2\",\"LABEL_0\",\"LABEL_1\",\n",
    "    \"LABEL_2\",\"LABEL_0\",\"LABEL_1\",\n",
    "    \"LABEL_2\",\"LABEL_0\",\"LABEL_1\",\n",
    "    \"LABEL_2\",\"LABEL_0\",\"LABEL_1\",\n",
    "    \"LABEL_2\",\"LABEL_0\",\"LABEL_1\"\n",
    "]"
   ]
  },
  {
   "cell_type": "code",
   "execution_count": 4,
   "id": "795a58b2",
   "metadata": {},
   "outputs": [
    {
     "data": {
      "text/plain": [
       "[('I love this product!', 'LABEL_2', 'LABEL_2'),\n",
       " ('This is the worst experience.', 'LABEL_0', 'LABEL_0'),\n",
       " ('It was okay, nothing special.', 'LABEL_1', 'LABEL_2'),\n",
       " ('Absolutely fantastic service.', 'LABEL_2', 'LABEL_2'),\n",
       " ('I really dislike the taste.', 'LABEL_0', 'LABEL_0'),\n",
       " ('Not bad, could be better.', 'LABEL_1', 'LABEL_2'),\n",
       " ('Best day ever!', 'LABEL_2', 'LABEL_2'),\n",
       " ('This ruined my evening.', 'LABEL_0', 'LABEL_0'),\n",
       " ('It’s fine, nothing remarkable.', 'LABEL_1', 'LABEL_2'),\n",
       " ('Super happy with the results!', 'LABEL_2', 'LABEL_2')]"
      ]
     },
     "execution_count": 4,
     "metadata": {},
     "output_type": "execute_result"
    }
   ],
   "source": [
    "# Inference\n",
    "preds = sentiment_analyzer(texts)\n",
    "pred_labels = [p[\"label\"] for p in preds]\n",
    "\n",
    "list(zip(texts, true_labels, pred_labels))[:10]  # Show some predictions"
   ]
  },
  {
   "cell_type": "code",
   "execution_count": 5,
   "id": "d4870578",
   "metadata": {},
   "outputs": [
    {
     "name": "stdout",
     "output_type": "stream",
     "text": [
      "Evaluation Metrics:\n",
      "Accuracy: 0.8021\n",
      "Precision: 0.8253\n",
      "Recall: 0.8021\n",
      "F1 Score: 0.7842\n"
     ]
    }
   ],
   "source": [
    "# Display Metrics\n",
    "accuracy = accuracy_score(true_labels, pred_labels)\n",
    "precision = precision_score(true_labels, pred_labels, average='weighted', zero_division=0)\n",
    "recall = recall_score(true_labels, pred_labels, average='weighted', zero_division=0)\n",
    "f1 = f1_score(true_labels, pred_labels, average='weighted', zero_division=0)\n",
    "\n",
    "print(\"Evaluation Metrics:\")\n",
    "print(f\"Accuracy: {accuracy:.4f}\")\n",
    "print(f\"Precision: {precision:.4f}\")\n",
    "print(f\"Recall: {recall:.4f}\")\n",
    "print(f\"F1 Score: {f1:.4f}\")"
   ]
  },
  {
   "cell_type": "code",
   "execution_count": 7,
   "id": "c6f144f0",
   "metadata": {},
   "outputs": [
    {
     "data": {
      "image/png": "[encoded data removed]",
      "text/plain": [
       "<Figure size 640x480 with 2 Axes>"
      ]
     },
     "metadata": {},
     "output_type": "display_data"
    }
   ],
   "source": [
    "# Display Confusion Matrix\n",
    "cm = confusion_matrix(true_labels, pred_labels, labels=[\"LABEL_0\", \"LABEL_1\", \"LABEL_2\"])\n",
    "disp = ConfusionMatrixDisplay(confusion_matrix=cm, display_labels=[\"Negative\", \"Neutral\", \"Positive\"])\n",
    "disp.plot(cmap=plt.cm.Blues)\n",
    "plt.title(\"Confusion Matrix - RoBERTa Sentiment Model\")\n",
    "plt.show()"
   ]
  },
  {
   "cell_type": "code",
   "execution_count": 8,
   "id": "6c61ad2d",
   "metadata": {},
   "outputs": [
    {
     "name": "stdout",
     "output_type": "stream",
     "text": [
      "\n",
      "Interactive sentiment demo. Press Enter on an empty line or type 'q' to quit.\n"
     ]
    },
    {
     "name": "stderr",
     "output_type": "stream",
     "text": [
      "/opt/anaconda3/lib/python3.12/site-packages/transformers/pipelines/text_classification.py:111: UserWarning: `return_all_scores` is now deprecated,  if want a similar functionality use `top_k=None` instead of `return_all_scores=True` or `top_k=1` instead of `return_all_scores=False`.\n",
      "  warnings.warn(\n"
     ]
    },
    {
     "name": "stdout",
     "output_type": "stream",
     "text": [
      "Prediction: Positive (LABEL_2)\n",
      "Probabilities: Neg=0.006, Neu=0.085, Pos=0.908\n",
      "Prediction: Negative (LABEL_0)\n",
      "Probabilities: Neg=0.893, Neu=0.089, Pos=0.018\n",
      "Prediction: Positive (LABEL_2)\n",
      "Probabilities: Neg=0.015, Neu=0.164, Pos=0.821\n",
      "Prediction: Negative (LABEL_0)\n",
      "Probabilities: Neg=0.650, Neu=0.305, Pos=0.045\n",
      "Prediction: Positive (LABEL_2)\n",
      "Probabilities: Neg=0.015, Neu=0.164, Pos=0.821\n",
      "Prediction: Neutral (LABEL_1)\n",
      "Probabilities: Neg=0.163, Neu=0.638, Pos=0.199\n"
     ]
    }
   ],
   "source": [
    "# Enter text and get sentiment with probabilities.\n",
    "label_map = {\"LABEL_0\": \"Negative\", \"LABEL_1\": \"Neutral\", \"LABEL_2\": \"Positive\"}\n",
    "\n",
    "print(\"\\nInteractive sentiment demo. Press Enter on an empty line or type 'q' to quit.\")\n",
    "try:\n",
    "    while True:\n",
    "        txt = input(\"\\nEnter text: \").strip()\n",
    "        if txt == \"\" or txt.lower() in {\"q\", \"quit\", \"exit\"}:\n",
    "            break\n",
    "\n",
    "        all_scores = sentiment_analyzer(txt, return_all_scores=True)[0]  # list of dicts\n",
    "        top = max(all_scores, key=lambda d: d[\"score\"])\n",
    "        probs = {d[\"label\"]: d[\"score\"] for d in all_scores}\n",
    "\n",
    "        print(f\"Prediction: {label_map[top['label']]} ({top['label']})\")\n",
    "        print(\n",
    "            \"Probabilities: \"\n",
    "            f\"Neg={probs.get('LABEL_0', 0):.3f}, \"\n",
    "            f\"Neu={probs.get('LABEL_1', 0):.3f}, \"\n",
    "            f\"Pos={probs.get('LABEL_2', 0):.3f}\"\n",
    "        )\n",
    "except KeyboardInterrupt:\n",
    "    print(\"\\nExited.\")"
   ]
  }
 ],
 "metadata": {
  "kernelspec": {
   "display_name": "base",
   "language": "python",
   "name": "python3"
  },
  "language_info": {
   "codemirror_mode": {
    "name": "ipython",
    "version": 3
   },
   "file_extension": ".py",
   "mimetype": "text/x-python",
   "name": "python",
   "nbconvert_exporter": "python",
   "pygments_lexer": "ipython3",
   "version": "3.12.7"
  }
 },
 "nbformat": 4,
 "nbformat_minor": 5
}
